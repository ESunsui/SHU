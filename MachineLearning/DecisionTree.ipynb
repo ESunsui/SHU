{
 "cells": [
  {
   "cell_type": "markdown",
   "metadata": {},
   "source": [
    "## 实验介绍"
   ]
  },
  {
   "cell_type": "markdown",
   "metadata": {},
   "source": [
    "### 1.实验内容"
   ]
  },
  {
   "cell_type": "markdown",
   "metadata": {},
   "source": [
    "本实验包括: \n",
    "* 学习并实现决策树算法----以ID3算法为例\n",
    "* 基于决策树算法预测隐形眼镜类型"
   ]
  },
  {
   "cell_type": "markdown",
   "metadata": {},
   "source": [
    "### 2.实验目标"
   ]
  },
  {
   "cell_type": "markdown",
   "metadata": {},
   "source": [
    "通过本实验掌握决策树算法的基本原理。"
   ]
  },
  {
   "cell_type": "markdown",
   "metadata": {},
   "source": [
    "### 3.实验知识点"
   ]
  },
  {
   "cell_type": "markdown",
   "metadata": {},
   "source": [
    "* 香农熵\n",
    "* 信息增益\n",
    "* 决策树算法基本原理"
   ]
  },
  {
   "cell_type": "markdown",
   "metadata": {},
   "source": [
    "### 4.实验环境"
   ]
  },
  {
   "cell_type": "markdown",
   "metadata": {},
   "source": [
    "* python 3.6.5\n",
    "* numpy 1.13.3\n",
    "* matplotlib 2.2.3"
   ]
  },
  {
   "cell_type": "markdown",
   "metadata": {},
   "source": [
    "### 实验准备"
   ]
  },
  {
   "cell_type": "markdown",
   "metadata": {},
   "source": [
    "点击屏幕右上方的下载实验数据模块，选择下载decision_tree_glass.tgz到指定目录下，然后再依次选择点击上方的File->Open->Upload,上传刚才下载的数据集压缩包，再使用如下命令解压："
   ]
  },
  {
   "cell_type": "code",
   "execution_count": 1,
   "metadata": {},
   "outputs": [
    {
     "name": "stdout",
     "output_type": "stream",
     "text": [
      "decision_tree_glass/\r\n",
      "decision_tree_glass/lenses.txt\r\n",
      "decision_tree_glass/classifierStorage.txt\r\n"
     ]
    }
   ],
   "source": [
    "!tar -zxvf decision_tree_glass.tgz"
   ]
  },
  {
   "cell_type": "markdown",
   "metadata": {},
   "source": [
    "## 【海洋动物分类】"
   ]
  },
  {
   "cell_type": "markdown",
   "metadata": {},
   "source": [
    "## 实验步骤：【海洋动物分类】- 概述"
   ]
  },
  {
   "cell_type": "markdown",
   "metadata": {},
   "source": [
    "下表数据包含5个海洋动物，特征包括：不浮出水面是否可以生存，以及是否有脚蹼。我们将这些动物分成两类：鱼类和非鱼类。本实验要求基于决策树算法（ID3）实现对下表数据的分类。\n",
    "\n",
    "id| 不浮出水面是否可以生存 | 是否有脚蹼 | 属于鱼类\n",
    ":-: | :-: | :-:|:-:\n",
    "1 | 是 | 是 | 是\n",
    "2 | 是 | 是 | 是\n",
    "3 | 是 | 否 | 否\n",
    "4 | 否 | 是 | 否\n",
    "5 | 否 | 是 | 否"
   ]
  },
  {
   "cell_type": "code",
   "execution_count": 2,
   "metadata": {},
   "outputs": [],
   "source": [
    "import math\n",
    "import numpy as np\n",
    "import matplotlib.pyplot as plt\n",
    "import os\n",
    "import pandas as pd"
   ]
  },
  {
   "cell_type": "markdown",
   "metadata": {},
   "source": [
    "## 实验步骤：【海洋动物分类】- 创建数据集"
   ]
  },
  {
   "cell_type": "markdown",
   "metadata": {},
   "source": [
    "基于上述表格，创建数据集。"
   ]
  },
  {
   "cell_type": "code",
   "execution_count": 3,
   "metadata": {},
   "outputs": [],
   "source": [
    "def createDataSet():\n",
    "    \"\"\"\n",
    "    函数说明：创建数据集\n",
    "    returns:\n",
    "        dataSet - 数据集\n",
    "        labels - 分类属性\n",
    "    \"\"\"\n",
    "    dataSet = [[1, 1, 'yes'],\n",
    "               [1, 1, 'yes'],\n",
    "               [1, 0, 'no'],\n",
    "               [0, 1, 'no'],\n",
    "               [0, 1, 'no']]\n",
    "    labels = ['no surfacing','flippers']\n",
    "    return dataSet, labels"
   ]
  },
  {
   "cell_type": "markdown",
   "metadata": {},
   "source": [
    "## 实验步骤：【海洋动物分类】- 计算香农熵"
   ]
  },
  {
   "cell_type": "code",
   "execution_count": 4,
   "metadata": {},
   "outputs": [
    {
     "data": {
      "text/plain": [
       "0.97095059445466858"
      ]
     },
     "execution_count": 4,
     "metadata": {},
     "output_type": "execute_result"
    }
   ],
   "source": [
    "def calcShannonEnt(dataSet):\n",
    "    \"\"\"\n",
    "    函数说明:计算给定数据集的香农熵\n",
    "    parameters:\n",
    "        dataSet - 数据集\n",
    "    returns:\n",
    "        shannonEnt - 香农熵\n",
    "    \"\"\"\n",
    "    yes = 0\n",
    "    labels = dict()\n",
    "    for i in dataSet:\n",
    "        if i[-1] not in labels:\n",
    "            labels[i[-1]] = 1\n",
    "        else:\n",
    "            labels[i[-1]] += 1\n",
    "    shannonEnt = 0\n",
    "    for i in labels:\n",
    "        shannonEnt += (-labels[i]/len(dataSet)*np.log2(labels[i]/len(dataSet)))\n",
    "    return shannonEnt\n",
    "    pass\n",
    "data,label = createDataSet()\n",
    "calcShannonEnt(data)"
   ]
  },
  {
   "cell_type": "code",
   "execution_count": 5,
   "metadata": {},
   "outputs": [],
   "source": [
    "# chooseBestFeatureToSplit(data)"
   ]
  },
  {
   "cell_type": "markdown",
   "metadata": {},
   "source": [
    "## 实验步骤：【海洋动物分类】- 特征选择(基于信息增益划分数据集)"
   ]
  },
  {
   "cell_type": "markdown",
   "metadata": {},
   "source": [
    "信息增益是相对于特征而言的，信息增益越大，特征对最终的分类结果影响也就越大，我们就应该选择对最终分类结果影响最大的那个特征作为我们的分类特征。\n",
    "\n",
    "splitDataSet函数是用来选择各个特征的子集的。chooseBestFeatureToSplit函数是选择选择最优特征的函数。"
   ]
  },
  {
   "cell_type": "code",
   "execution_count": 6,
   "metadata": {},
   "outputs": [],
   "source": [
    "def splitDataSet(dataSet, axis, value):\n",
    "    \"\"\"\n",
    "    函数说明: 按照给定特征划分数据集\n",
    "    parameters:\n",
    "        dataSet - 待划分的数据集\n",
    "        axis - 划分数据集的特征 (第axis个特征)\n",
    "        value - 特征值\n",
    "    returns:\n",
    "        retDataSet - 划分后的数据集\n",
    "    \"\"\"\n",
    "    retDataSet = []\n",
    "    for i in dataSet:\n",
    "        if i[axis] == value:\n",
    "            splitdata = i[:axis]+i[axis+1:]\n",
    "            retDataSet.append(splitdata)\n",
    "    return retDataSet\n",
    "    pass\n",
    "\n",
    "\n",
    "def chooseBestFeatureToSplit(dataSet):\n",
    "    \"\"\"\n",
    "    函数说明: 选择最优特征\n",
    "    parameters:\n",
    "        dataSet - 数据集\n",
    "    returns:\n",
    "        bestFeature - 信息增益最大的(最优)特征的索引值\n",
    "    \"\"\"\n",
    "    infoGains = [] # 记录各个特征划分后的信息增益\n",
    "    for axis in range(len(dataSet[0])-1): # 分别根据axis划分特征\n",
    "        values = set([dataSet[i][axis] for i in range(len(dataSet))]) # 统计第axis个特征的所有可能的值\n",
    "        newEnt = 0 # 划分后的信息熵\n",
    "        for value in values:\n",
    "            newdataSet = splitDataSet(dataSet,axis,value)\n",
    "            newEnt += len(newdataSet)/len(dataSet)*calcShannonEnt(newdataSet)\n",
    "        infoGains.append(newEnt-calcShannonEnt(dataSet))\n",
    "    return infoGains.index(max(infoGains))\n",
    "        \n",
    "    pass"
   ]
  },
  {
   "cell_type": "markdown",
   "metadata": {},
   "source": [
    "## 实验步骤：【海洋动物分类】- 构建决策树"
   ]
  },
  {
   "cell_type": "markdown",
   "metadata": {},
   "source": [
    "决策树构建算法流程：得到原始数据集，基于最好的属性值划分数据集。第一次划分之后，数据将被向下传递到树分支的下一个节点，在这个节点上，再次划分数据。采用递归的原则处理数据集。\n",
    "\n",
    "递归结束条件：程序遍历完所有划分数据集的属性，或者每个分支下的所有实例都具有相同的分类。"
   ]
  },
  {
   "cell_type": "code",
   "execution_count": 7,
   "metadata": {},
   "outputs": [],
   "source": [
    "class TreeNode:\n",
    "    def __init__(self,label=None,value=None):\n",
    "        self.value = value\n",
    "        self.label = label\n",
    "        self.children = []\n",
    "        self.result = None\n",
    "def createTreeHelp(node,dataSet,labels):\n",
    "    if len(dataSet[0]) > 2:\n",
    "        axis = chooseBestFeatureToSplit(dataSet)\n",
    "        values = list(set(i[axis] for i in dataSet))\n",
    "        for value in values:\n",
    "            newnode = TreeNode(labels[axis],value)\n",
    "            node.children.append(newnode)\n",
    "            nextlabels = labels[:]\n",
    "            nextlabels.remove(labels[axis])\n",
    "            createTreeHelp(newnode,splitDataSet(dataSet,axis,value),nextlabels)\n",
    "        return node\n",
    "    else:\n",
    "        values = list(set(i[0] for i in dataSet))\n",
    "        \n",
    "        for value in values:\n",
    "            dic = dict()\n",
    "            for i in dataSet:\n",
    "                if i[0] == value:\n",
    "                    if i[1] not in dic:\n",
    "                        dic[i[1]] = 1\n",
    "                    else:\n",
    "                        dic[i[1]] += 1\n",
    "            label = list(dic.keys())[list(dic.values()).index(max(dic.values()))]\n",
    "            newnode = TreeNode(labels[0],value)\n",
    "            newnode.result = label\n",
    "            node.children.append(newnode)"
   ]
  },
  {
   "cell_type": "code",
   "execution_count": 8,
   "metadata": {},
   "outputs": [],
   "source": [
    "def createTree(dataSet, labels):\n",
    "    \"\"\"\n",
    "    函数说明:创建决策树\n",
    "    Parameters:\n",
    "        dataSet - 训练数据集\n",
    "        labels - 分类属性标签\n",
    "    Returns:\n",
    "        myTree - 决策树\n",
    "    \"\"\"\n",
    "    root = TreeNode()\n",
    "    createTreeHelp(root,dataSet,labels)\n",
    "    return root\n",
    "    \n",
    "    pass"
   ]
  },
  {
   "cell_type": "markdown",
   "metadata": {},
   "source": [
    "## 实验步骤：【海洋动物分类】- 使用决策树进行分类"
   ]
  },
  {
   "cell_type": "code",
   "execution_count": 13,
   "metadata": {},
   "outputs": [],
   "source": [
    "def classify(inputTree, featLabels, testVec):\n",
    "    \"\"\"\n",
    "    函数说明:使用决策树分类\n",
    "    Parameters:\n",
    "        inputTree - 已经生成的决策树\n",
    "        featLabels - 存储选择的最优特征标签\n",
    "        testVec - 测试数据列表，顺序对应最优特征标签\n",
    "    Returns:\n",
    "        classLabel - 分类结果\n",
    "    \"\"\"\n",
    "    p = inputTree\n",
    "\n",
    "    while p.children !=[]:\n",
    "        for i in p.children:\n",
    "            if i.value == testVec[featLabels.index(i.label)]:\n",
    "                break\n",
    "        p = i\n",
    "    return p.result\n",
    "    pass"
   ]
  },
  {
   "cell_type": "code",
   "execution_count": 14,
   "metadata": {},
   "outputs": [
    {
     "name": "stdout",
     "output_type": "stream",
     "text": [
      "no\n",
      "yes\n"
     ]
    }
   ],
   "source": [
    "if __name__ == '__main__':\n",
    "    testVec1 = [1,0]\n",
    "    testVec2 = [1,1]\n",
    "    # 使用决策树对testVec1和testVec2分类\n",
    "    data,label = createDataSet()\n",
    "    root = createTree(data,label)\n",
    "    print(classify(root,label,testVec1))\n",
    "    print(classify(root,label,testVec2))"
   ]
  },
  {
   "cell_type": "markdown",
   "metadata": {},
   "source": [
    "## 【预测隐形眼镜类型】"
   ]
  },
  {
   "cell_type": "markdown",
   "metadata": {},
   "source": [
    "## 实验步骤：【预测隐形眼镜类型】- 概述"
   ]
  },
  {
   "cell_type": "markdown",
   "metadata": {},
   "source": [
    "本实验要求基于决策树算法，帮助人们判断需要佩戴的镜片类型。\n",
    "\n",
    "### 数据介绍\n",
    "隐形眼镜数据集是非常著名的数据集，它包含很多换着眼部状态的观察条件以及医生推荐的隐形眼镜类型。隐形眼镜类型包括硬材质(hard)、软材质(soft)以及不适合佩戴隐形眼镜(no lenses)。\n",
    "\n",
    "数据集一共有24组数据，数据的Labels依次是age、prescript、astigmatic、tearRate、class，也就是第一列是年龄，第二列是症状，第三列是是否散光，第四列是眼泪数量，第五列是最终的分类标签。"
   ]
  },
  {
   "cell_type": "markdown",
   "metadata": {},
   "source": [
    "## 实验步骤：【预测隐形眼镜类型】- 创建决策树"
   ]
  },
  {
   "cell_type": "raw",
   "metadata": {
    "collapsed": true
   },
   "source": [
    "编写代码，基于隐形眼镜数据集构造决策树，并输出。"
   ]
  },
  {
   "cell_type": "code",
   "execution_count": 25,
   "metadata": {},
   "outputs": [],
   "source": [
    "f = open('decision_tree_glass/lenses.txt','r',encoding='utf-8')\n",
    "lines = f.readlines()\n",
    "f.close()\n",
    "glassDataSet = []\n",
    "glassLabels = ['age','prescript','tearRate','class']\n",
    "for line in lines:\n",
    "    line = line.strip('\\n').split('\\t')\n",
    "    glassDataSet.append(line)\n",
    "# print(glassDataSet)\n",
    "# print(glassLabels)\n",
    "root = createTree(glassDataSet,glassLabels)\n"
   ]
  },
  {
   "cell_type": "code",
   "execution_count": 28,
   "metadata": {},
   "outputs": [],
   "source": [
    "def pirorOrderVisit(node):\n",
    "    if node.children != []:\n",
    "        print(node.value,node.label)\n",
    "        for i in node.children:\n",
    "            pirorOrderVisit(i)"
   ]
  },
  {
   "cell_type": "code",
   "execution_count": 29,
   "metadata": {},
   "outputs": [
    {
     "name": "stdout",
     "output_type": "stream",
     "text": [
      "None None\n",
      "pre age\n",
      "hyper prescript\n",
      "no tearRate\n",
      "yes tearRate\n",
      "myope prescript\n",
      "no tearRate\n",
      "yes tearRate\n",
      "young age\n",
      "hyper prescript\n",
      "no tearRate\n",
      "yes tearRate\n",
      "myope prescript\n",
      "no tearRate\n",
      "yes tearRate\n",
      "presbyopic age\n",
      "hyper prescript\n",
      "no tearRate\n",
      "yes tearRate\n",
      "myope prescript\n",
      "no tearRate\n",
      "yes tearRate\n"
     ]
    }
   ],
   "source": [
    "pirorOrderVisit(root)"
   ]
  },
  {
   "cell_type": "code",
   "execution_count": null,
   "metadata": {},
   "outputs": [],
   "source": []
  }
 ],
 "metadata": {
  "anaconda-cloud": {},
  "kernelspec": {
   "display_name": "Python 3",
   "language": "python",
   "name": "python3"
  },
  "language_info": {
   "codemirror_mode": {
    "name": "ipython",
    "version": 3
   },
   "file_extension": ".py",
   "mimetype": "text/x-python",
   "name": "python",
   "nbconvert_exporter": "python",
   "pygments_lexer": "ipython3",
   "version": "3.6.7"
  }
 },
 "nbformat": 4,
 "nbformat_minor": 2
}
